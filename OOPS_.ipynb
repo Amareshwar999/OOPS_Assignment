{
  "nbformat": 4,
  "nbformat_minor": 0,
  "metadata": {
    "colab": {
      "provenance": []
    },
    "kernelspec": {
      "name": "python3",
      "display_name": "Python 3"
    },
    "language_info": {
      "name": "python"
    }
  },
  "cells": [
    {
      "cell_type": "markdown",
      "source": [
        "#**OOPS Assignment**"
      ],
      "metadata": {
        "id": "fyZ5UNU0FlMG"
      }
    },
    {
      "cell_type": "markdown",
      "source": [
        "1.  What is Object-Oriented Programming (OOP) ?\n",
        "  - OOP is a programming paradigm based on the concept of \"objects,\" which can contain data (attributes) and code (methods). It emphasizes modularity, reusability, encapsulation, inheritance, and polymorphism.\n",
        "  ---\n",
        "2. What is a class in OOP ?\n",
        "  - A class is a blueprint for creating objects. It defines a set of attributes and methods that the created objects (instances) will have.\n",
        "  ---\n",
        "3. What is an object in OOP ?\n",
        "  - An object is an instance of a class. It represents a specific entity with the attributes and behaviors defined by its class.\n",
        "  ---\n",
        "4. What is the difference between abstraction and encapsulation ?\n",
        "  - Abstraction hides complex implementation details and shows only essential features, while encapsulation restricts direct access to some of an object's components, bundling data and methods together.\n",
        "  ---\n",
        "5. What are dunder methods in Python ?\n",
        "  - Dunder (double underscore) methods are special methods in Python with names starting and ending with double underscores (e.g., __init__, __str__). They enable operator overloading and define object behavior for built-in operations.\n",
        "  ---\n",
        "6. Explain the concept of inheritance in OOP.\n",
        "  - Inheritance allows a class (child/derived) to acquire properties and behaviors (attributes and methods) from another class (parent/base), promoting code reuse.\n",
        "  ---\n",
        "7. What is polymorphism in OOP ?\n",
        "  - Polymorphism allows objects of different classes to be treated as objects of a common superclass. It enables methods to have different behaviors based on the object calling them.\n",
        "  ---\n",
        "8. How is encapsulation achieved in Python ?\n",
        "  - Encapsulation is achieved by making attributes private (prefixing with _ or __) and providing public methods (getters/setters) to access or modify them.\n",
        "  ---\n",
        "9. What is a constructor in Python ?\n",
        "  - A constructor is a special method (__init__) that is called when an object is instantiated. It initializes the object's attributes.\n",
        "  ---\n",
        "10. What are class and static methods in Python ?\n",
        "\n",
        "  *   Class methods use the @classmethod decorator and take 'cls' as the first parameter. They can modify class state.\n",
        "\n",
        "  *   Static methods use the @staticmethod decorator and do not take 'self' or 'cls'. They are utility functions within the class.\n",
        "  ---\n",
        "11. What is method overloading in Python ?\n",
        "  - Python does not support traditional method overloading. However, you can achieve similar behavior using default arguments or variable-length arguments.\n",
        "  ---\n",
        "12. What is method overriding in OOP?\n",
        "  - Method overriding occurs when a subclass provides a specific implementation of a method already defined in its superclass.\n",
        "  ---\n",
        "13. What is a property decorator in Python ?\n",
        "  - The @property decorator allows you to define methods in a class that can be accessed like attributes, enabling controlled access to private variables.\n",
        "  ---\n",
        "14. Why is polymorphism important in OOP ?\n",
        "  - Polymorphism increases flexibility and reusability of code by allowing the same interface to be used for different underlying forms (data types).\n",
        "  ---\n",
        "15. What is an abstract class in Python ?\n",
        "  - An abstract class cannot be instantiated and typically contains one or more abstract methods that must be implemented by subclasses. In Python, use the abc module.\n",
        "  ---\n",
        "16. What are the advantages of OOP ?\n",
        "  * Modularity\n",
        "  * Code reusability\n",
        "  * Scalability\n",
        "  * Data hiding (encapsulation)\n",
        "  * Easier maintenance\n",
        "  ---\n",
        "17.  What is the difference between a class variable and an instance variable ?\n",
        "  - Class variables are shared across all instances. Instance variables are unique to each object.\n",
        "  ---\n",
        "18. What is multiple inheritance in Python ?\n",
        "  - Multiple inheritance allows a class to inherit from more than one parent class.\n",
        "  ---\n",
        "19. Explain the purpose of  __str __ and __repr __ methods in Python.\n",
        "  -  __str __ : Returns a human-readable string representation of an object.\n",
        "\n",
        "   *  __repr __ : Returns an unambiguous string representation, useful for debugging.\n",
        "   ---\n",
        "20. What is the significance of the ‘super()’ function in Python ?\n",
        "  - super() allows you to call methods from a parent class, enabling method overriding and cooperative multiple inheritance.\n",
        "  ---\n",
        "21.  What is the significance of the __del __ method in Python ?\n",
        "  - __del __ is a destructor method called when an object is about to be destroyed, allowing cleanup of resources.\n",
        "  ---\n",
        "22.  What is the difference between @staticmethod and @classmethod in Python ?   \n",
        "  * @staticmethod: No access to class or instance; acts like a regular function inside a class.\n",
        "\n",
        "  * @classmethod: Accesses the class (cls) and can modify class state.\n",
        "  ---\n",
        "23. How does polymorphism work in Python with inheritance ?\n",
        "  - Polymorphism allows subclasses to override methods from the parent class, and the correct method is called based on the object's type at runtime.\n",
        "  ---\n",
        "24. What is method chaining in Python OOP ?\n",
        "  - Method chaining is calling multiple methods sequentially on the same object in a single statement, usually by returning self from each method.\n",
        "  ---\n",
        "25. What is the purpose of the __call __ method in Python ?\n",
        "  - The __call __ method allows an instance of a class to be called as a function.\n",
        "---\n",
        "\n",
        "\n"
      ],
      "metadata": {
        "id": "wBat8QOJF5rO"
      }
    },
    {
      "cell_type": "markdown",
      "source": [
        "#Practical questions"
      ],
      "metadata": {
        "id": "LY_5M3uQRJTZ"
      }
    },
    {
      "cell_type": "code",
      "source": [
        "#Create a parent class Animal with a method speak() that prints a generic message. Create a child class Dog that overrides the speak() method to print \"Bark!\"\n",
        "class Animal:\n",
        "  def speak(self):\n",
        "    print(\"Generic message\")\n",
        "\n",
        "class Dog(Animal):\n",
        "  def speak(self):\n",
        "    print(\"Bark!\")\n",
        "\n",
        "dog = Dog()\n",
        "dog.speak()"
      ],
      "metadata": {
        "colab": {
          "base_uri": "https://localhost:8080/"
        },
        "id": "oEF4-x-pRPyR",
        "outputId": "8cf92511-ec59-4010-bc97-ccad54781297"
      },
      "execution_count": 1,
      "outputs": [
        {
          "output_type": "stream",
          "name": "stdout",
          "text": [
            "Bark!\n"
          ]
        }
      ]
    },
    {
      "cell_type": "code",
      "source": [
        "#Write a program to create an abstract class Shape with a method area(). Derive classes Circle and Rectangle from it and implement the area() method in both.\n",
        "from abc import ABC, abstractmethod\n",
        "\n",
        "class Shape(ABC):\n",
        "    @abstractmethod\n",
        "    def area(self):\n",
        "        pass\n",
        "\n",
        "class Circle(Shape):\n",
        "    def __init__(self, radius):\n",
        "        self.radius = radius\n",
        "\n",
        "    def area(self):\n",
        "        return 3.14 * self.radius * self.radius\n",
        "\n",
        "class Rectangle(Shape):\n",
        "    def __init__(self, width, height):\n",
        "        self.width = width\n",
        "        self.height = height\n",
        "\n",
        "    def area(self):\n",
        "        return self.width * self.height\n",
        "R = Rectangle(5,6)\n",
        "C = Circle(5)\n",
        "print(R.area())\n",
        "print(C.area())"
      ],
      "metadata": {
        "colab": {
          "base_uri": "https://localhost:8080/"
        },
        "id": "LWlV4mr5TvlY",
        "outputId": "029c6be7-0b26-4ac1-a635-ab3b6b6e8d1e"
      },
      "execution_count": 6,
      "outputs": [
        {
          "output_type": "stream",
          "name": "stdout",
          "text": [
            "30\n",
            "78.5\n"
          ]
        }
      ]
    },
    {
      "cell_type": "code",
      "source": [
        "#Implement a multi-level inheritance scenario where a class Vehicle has an attribute type. Derive a class Car and further derive a class ElectricCar that adds a battery attribute\n",
        "class Vehicle:\n",
        "    def __init__(self, type):\n",
        "        self.type = type\n",
        "\n",
        "class Car(Vehicle):\n",
        "    def __init__(self, type, brand):\n",
        "        super().__init__(type)\n",
        "        self.brand = brand\n",
        "\n",
        "class ElectricCar(Car):\n",
        "    def __init__(self, type, brand, battery):\n",
        "        super().__init__(type, brand)\n",
        "        self.battery = battery\n",
        "mycar = ElectricCar(\"Electric\", \"Tesla\", \"100kWh\")\n",
        "print(mycar.type)\n",
        "print(mycar.brand)\n",
        "print(mycar.battery)\n"
      ],
      "metadata": {
        "colab": {
          "base_uri": "https://localhost:8080/"
        },
        "id": "RQ7zuaoUS14a",
        "outputId": "e9184e00-e27e-45cf-8ed3-9369ccff9b8d"
      },
      "execution_count": 7,
      "outputs": [
        {
          "output_type": "stream",
          "name": "stdout",
          "text": [
            "Electric\n",
            "Tesla\n",
            "100kWh\n"
          ]
        }
      ]
    },
    {
      "cell_type": "code",
      "source": [
        "# Demonstrate polymorphism by creating a base class Bird with a method fly(). Create two derived classes Sparrow and Penguin that override the fly() method.\n",
        "class Bird:\n",
        "    def fly(self):\n",
        "        print(\"Bird can fly.\")\n",
        "\n",
        "class Sparrow(Bird):\n",
        "    def fly(self):\n",
        "        print(\"Sparrow flies high.\")\n",
        "\n",
        "class Penguin(Bird):\n",
        "    def fly(self):\n",
        "        print(\"Penguins cannot fly.\")\n",
        "b1 = Bird()\n",
        "s1 = Sparrow()\n",
        "p1 = Penguin()\n",
        "b1.fly()\n",
        "s1.fly()\n",
        "p1.fly()"
      ],
      "metadata": {
        "colab": {
          "base_uri": "https://localhost:8080/"
        },
        "id": "xR2UQ86BS12B",
        "outputId": "912f86a7-3b97-4ea1-c311-61c4b468c037"
      },
      "execution_count": 8,
      "outputs": [
        {
          "output_type": "stream",
          "name": "stdout",
          "text": [
            "Bird can fly.\n",
            "Sparrow flies high.\n",
            "Penguins cannot fly.\n"
          ]
        }
      ]
    },
    {
      "cell_type": "code",
      "source": [
        "#Write a program to demonstrate encapsulation by creating a class BankAccount with private attributes balance and methods to deposit, withdraw, and check balance\n",
        "class Bank:\n",
        "    def __init__(self, balance):\n",
        "        self.__balance = balance\n",
        "    def deposit(self, amount):\n",
        "        self.__balance += amount\n",
        "\n",
        "    def withdraw(self, amount):\n",
        "        self.amount = amount\n",
        "        if self.__balance >= amount:\n",
        "            self.__balance -= amount\n",
        "            print(\"amount withdrawed successfully\")\n",
        "        else:\n",
        "            print(\"Insufficient balance\")\n",
        "    def get_balance(self):\n",
        "        return self.__balance\n",
        "acc = Bank(10000)\n",
        "print(acc.get_balance())\n",
        "acc.deposit(2000)\n",
        "print(acc.get_balance())\n",
        "acc.withdraw(7000)\n",
        "print(acc.get_balance())\n",
        "acc.withdraw(7000)"
      ],
      "metadata": {
        "colab": {
          "base_uri": "https://localhost:8080/"
        },
        "id": "B64Iqpp-S1zZ",
        "outputId": "30155f31-e2f2-477a-cb37-30b4a5f3dd52"
      },
      "execution_count": 10,
      "outputs": [
        {
          "output_type": "stream",
          "name": "stdout",
          "text": [
            "10000\n",
            "12000\n",
            "amount withdrawed successfully\n",
            "5000\n",
            "Insufficient balance\n"
          ]
        }
      ]
    },
    {
      "cell_type": "code",
      "source": [
        "#Demonstrate runtime polymorphism using a method play() in a base class Instrument. Derive classes Guitar and Piano that implement their own version of play()\n",
        "class Instrument:\n",
        "    def play(self):\n",
        "        print(\"Instrument is playing.\")\n",
        "\n",
        "class Guitar(Instrument):\n",
        "    def play(self):\n",
        "        print(\"Guitar is playing.\")\n",
        "\n",
        "class Piano(Instrument):\n",
        "    def play(self):\n",
        "        print(\"Piano is playing.\")\n",
        "i1 = Instrument()\n",
        "g1 = Guitar()\n",
        "p1 = Piano()\n",
        "i1.play()\n",
        "g1.play()\n",
        "p1.play()"
      ],
      "metadata": {
        "colab": {
          "base_uri": "https://localhost:8080/"
        },
        "id": "HQ91VnrUS1uI",
        "outputId": "6b05f1f2-8b2b-4db6-f8f6-b11e81e24fcf"
      },
      "execution_count": 11,
      "outputs": [
        {
          "output_type": "stream",
          "name": "stdout",
          "text": [
            "Instrument is playing.\n",
            "Guitar is playing.\n",
            "Piano is playing.\n"
          ]
        }
      ]
    },
    {
      "cell_type": "code",
      "source": [
        "# Create a class MathOperations with a class method add_numbers() to add two numbers and a static method subtract_numbers() to subtract two numbers\n",
        "class MathOperations:\n",
        "    @classmethod\n",
        "    def add_numbers(cls,a,b):\n",
        "        return a+b\n",
        "    @staticmethod\n",
        "    def  subtract_numbers(a,b):\n",
        "        return a-b\n",
        "result = MathOperations()\n",
        "print(result.add_numbers(9,5))\n",
        "print(result.subtract_numbers(9,5))"
      ],
      "metadata": {
        "colab": {
          "base_uri": "https://localhost:8080/"
        },
        "id": "FUOJ1_11S1q4",
        "outputId": "6fcbce91-c444-44b2-8932-d5ac60551ed0"
      },
      "execution_count": 12,
      "outputs": [
        {
          "output_type": "stream",
          "name": "stdout",
          "text": [
            "14\n",
            "4\n"
          ]
        }
      ]
    },
    {
      "cell_type": "code",
      "source": [
        "# Implement a class Person with a class method to count the total number of persons created.\n",
        "class Person:\n",
        "    total_persons = 0\n",
        "    def __init__(self,name):\n",
        "        self.name = name\n",
        "        Person.total_persons += 1\n",
        "    def show(self):\n",
        "        print(f\"name: {self.name}\")\n",
        "p1 = Person(\"amar\")\n",
        "p2 = Person(\"chinnu\")\n",
        "print(Person.total_persons)"
      ],
      "metadata": {
        "colab": {
          "base_uri": "https://localhost:8080/"
        },
        "id": "vjwB4v25S1oY",
        "outputId": "d0415351-0ab3-4b07-f712-451f316f25fd"
      },
      "execution_count": 13,
      "outputs": [
        {
          "output_type": "stream",
          "name": "stdout",
          "text": [
            "2\n"
          ]
        }
      ]
    },
    {
      "cell_type": "code",
      "source": [
        "#Write a class Fraction with attributes numerator and denominator. Override the str method to display the fraction as \"numerator/denominator\"\n",
        "class Fraction:\n",
        "    def __init__(self,numerator,denominator):\n",
        "        self.numerator = numerator\n",
        "        self.denominator = denominator\n",
        "    def __str__(self):\n",
        "        return f\"{self.numerator}/{self.denominator}\"\n",
        "f1 = Fraction(1,2)\n",
        "f1.__str__()"
      ],
      "metadata": {
        "colab": {
          "base_uri": "https://localhost:8080/",
          "height": 35
        },
        "id": "eLi0G3vCVCMh",
        "outputId": "e5e542d5-76a5-4855-c365-31cecbd9c3de"
      },
      "execution_count": 21,
      "outputs": [
        {
          "output_type": "execute_result",
          "data": {
            "text/plain": [
              "'1/2'"
            ],
            "application/vnd.google.colaboratory.intrinsic+json": {
              "type": "string"
            }
          },
          "metadata": {},
          "execution_count": 21
        }
      ]
    },
    {
      "cell_type": "code",
      "source": [
        "# Demonstrate operator overloading by creating a class Vector and overriding the add method to add two vectors\n",
        "class Vector:\n",
        "    def __init__(self, x, y):\n",
        "        self.x = x\n",
        "        self.y = y\n",
        "\n",
        "    def __add__(self, other):\n",
        "        return Vector(self.x + other.x, self.y + other.y)\n",
        "v1= Vector(1, 2)\n",
        "v2 = Vector(3, 4)\n",
        "result = v1 + v2\n",
        "print(result.x, result.y)"
      ],
      "metadata": {
        "colab": {
          "base_uri": "https://localhost:8080/"
        },
        "id": "jjRz8UmaVCJ1",
        "outputId": "e9b6c7a1-346a-48ee-ae30-1237d4808be1"
      },
      "execution_count": 22,
      "outputs": [
        {
          "output_type": "stream",
          "name": "stdout",
          "text": [
            "4 6\n"
          ]
        }
      ]
    },
    {
      "cell_type": "code",
      "source": [
        "# Create a class Person with attributes name and age. Add a method greet() that prints \"Hello, my name is {name} and I am {age} years old.\n",
        "class Person:\n",
        "    def __init__(self, name, age):\n",
        "        self.name = name\n",
        "        self.age = age\n",
        "\n",
        "    def greet(self):\n",
        "        print(f\"Hello, my name is {self.name} and I am {self.age} years old.\")\n",
        "p1 = Person(\"amar\",20)\n",
        "p1.greet()"
      ],
      "metadata": {
        "colab": {
          "base_uri": "https://localhost:8080/"
        },
        "id": "q811pJpwVCHL",
        "outputId": "648813ca-adfc-402e-cc48-22f8670cf632"
      },
      "execution_count": 23,
      "outputs": [
        {
          "output_type": "stream",
          "name": "stdout",
          "text": [
            "Hello, my name is amar and I am 20 years old.\n"
          ]
        }
      ]
    },
    {
      "cell_type": "code",
      "source": [
        "# Implement a class Student with attributes name and grades. Create a method average_grade() to compute the average of the grades\n",
        "class Student:\n",
        "    def __init__(self, name, grades):\n",
        "        self.name = name\n",
        "        self.grades = grades\n",
        "\n",
        "    def average_grade(self):\n",
        "        return sum(self.grades) / len(self.grades)\n",
        "s1 = Student(\"amar\",[1,2,3,4,5])\n",
        "s1.average_grade()"
      ],
      "metadata": {
        "colab": {
          "base_uri": "https://localhost:8080/"
        },
        "id": "woLjzp-BVCEh",
        "outputId": "9e24c21c-bca0-4d8a-e731-87a279fdcdad"
      },
      "execution_count": 24,
      "outputs": [
        {
          "output_type": "execute_result",
          "data": {
            "text/plain": [
              "3.0"
            ]
          },
          "metadata": {},
          "execution_count": 24
        }
      ]
    },
    {
      "cell_type": "code",
      "source": [
        "#Create a class Rectangle with methods set_dimensions() to set the dimensions and area() to calculate the area.\n",
        "class Rectangle:\n",
        "    def set_dimensions(self, width, height):\n",
        "        self.width = width\n",
        "        self.height = height\n",
        "\n",
        "    def area(self):\n",
        "        return self.width * self.height\n",
        "R = Rectangle()\n",
        "R.set_dimensions(5,6)\n",
        "R.area()"
      ],
      "metadata": {
        "colab": {
          "base_uri": "https://localhost:8080/"
        },
        "id": "RL2peDYKVCBA",
        "outputId": "bfab93e0-e03b-4a7f-abf7-ad12be02d88e"
      },
      "execution_count": 25,
      "outputs": [
        {
          "output_type": "execute_result",
          "data": {
            "text/plain": [
              "30"
            ]
          },
          "metadata": {},
          "execution_count": 25
        }
      ]
    },
    {
      "cell_type": "code",
      "source": [
        "#Create a class Employee with a method calculate_salary() that computes the salary based on hours worked and hourly rate. Create a derived class Manager that adds a bonus to the salary\n",
        "class Employee:\n",
        "    def __init__(self,hours_worked,hourly_rate):\n",
        "        self.hours_worked = hours_worked\n",
        "        self.hourly_rate = hourly_rate\n",
        "    def calculate_salary(self):\n",
        "        salary = self.hours_worked * self.hourly_rate\n",
        "        print(f\"Total salary: {salary}\")\n",
        "class Manager(Employee):\n",
        "    def __init__(self,hours_worked,hourly_rate,bonus):\n",
        "        super().__init__(hours_worked,hourly_rate)\n",
        "        self.bonus = bonus\n",
        "    def calculate_salary(self):\n",
        "        salary = (self.hours_worked * self.hourly_rate) + self.bonus\n",
        "        print(f\"Total salary: {salary}\")\n",
        "\n",
        "emp = Employee(40,30)\n",
        "emp.calculate_salary()\n",
        "mnr = Manager(40,30,500)\n",
        "mnr.calculate_salary()"
      ],
      "metadata": {
        "colab": {
          "base_uri": "https://localhost:8080/"
        },
        "id": "LQS_ilEPVB-w",
        "outputId": "678fe8f8-dfc5-4388-ee45-57dbee9fc5be"
      },
      "execution_count": 26,
      "outputs": [
        {
          "output_type": "stream",
          "name": "stdout",
          "text": [
            "Total salary: 1200\n",
            "Total salary: 1700\n"
          ]
        }
      ]
    },
    {
      "cell_type": "code",
      "source": [
        "#Create a class Product with attributes name, price, and quantity. Implement a method total_price() that calculates the total price of the product\n",
        "class Product:\n",
        "    def __init__(self, name, price, quantity):\n",
        "        self.name = name\n",
        "        self.price = price\n",
        "        self.quantity = quantity\n",
        "\n",
        "    def total_price(self):\n",
        "        return self.price * self.quantity\n",
        "P1 = Product(\"pen\",10,2)\n",
        "P1.total_price()"
      ],
      "metadata": {
        "colab": {
          "base_uri": "https://localhost:8080/"
        },
        "id": "Rh3FeZNqVB8i",
        "outputId": "a9912670-9554-4ad0-c93a-c9e2f1220ced"
      },
      "execution_count": 27,
      "outputs": [
        {
          "output_type": "execute_result",
          "data": {
            "text/plain": [
              "20"
            ]
          },
          "metadata": {},
          "execution_count": 27
        }
      ]
    },
    {
      "cell_type": "code",
      "source": [
        "# Create a class Animal with an abstract method sound(). Create two derived classes Cow and Sheep that implement the sound() method\n",
        "from abc import ABC, abstractmethod\n",
        "\n",
        "class Animal(ABC):\n",
        "    @abstractmethod\n",
        "    def sound(self):\n",
        "        pass\n",
        "\n",
        "class Cow(Animal):\n",
        "    def sound(self):\n",
        "        print(\"Moo\")\n",
        "\n",
        "class Sheep(Animal):\n",
        "    def sound(self):\n",
        "        print(\"Baa\")\n",
        "C1 = Cow()\n",
        "s1 = Sheep()\n",
        "C1.sound()\n",
        "s1.sound()"
      ],
      "metadata": {
        "colab": {
          "base_uri": "https://localhost:8080/"
        },
        "id": "KtJ73WOjVB5r",
        "outputId": "8316e655-b811-472d-92ce-003dde2c5061"
      },
      "execution_count": 28,
      "outputs": [
        {
          "output_type": "stream",
          "name": "stdout",
          "text": [
            "Moo\n",
            "Baa\n"
          ]
        }
      ]
    },
    {
      "cell_type": "code",
      "source": [
        "# Create a class Book with attributes title, author, and year_published. Add a method get_book_info() that returns a formatted string with the book's details\n",
        "class Book:\n",
        "    def __init__(self, title, author, year_published):\n",
        "        self.title = title\n",
        "        self.author = author\n",
        "        self.year_published = year_published\n",
        "\n",
        "    def get_book_info(self):\n",
        "        return f\"'{self.title}' by {self.author} ({self.year_published})\"\n",
        "b1 = Book(\"The Alchemist\", \"Paulo Coelho\", 1988)\n",
        "b1.get_book_info()\n"
      ],
      "metadata": {
        "colab": {
          "base_uri": "https://localhost:8080/",
          "height": 35
        },
        "id": "JxkZRRcvW7dD",
        "outputId": "632a9f01-12e0-4267-e50c-c0ff13f0ec5c"
      },
      "execution_count": 29,
      "outputs": [
        {
          "output_type": "execute_result",
          "data": {
            "text/plain": [
              "\"'The Alchemist' by Paulo Coelho (1988)\""
            ],
            "application/vnd.google.colaboratory.intrinsic+json": {
              "type": "string"
            }
          },
          "metadata": {},
          "execution_count": 29
        }
      ]
    },
    {
      "cell_type": "code",
      "source": [
        "#Create a class House with attributes address and price. Create a derived class Mansion that adds an attribute number_of_rooms.\n",
        "class House:\n",
        "    def __init__(self, address, price):\n",
        "        self.address = address\n",
        "        self.price = price\n",
        "\n",
        "class Mansion(House):\n",
        "    def __init__(self, address, price, number_of_rooms):\n",
        "        super().__init__(address, price)\n",
        "        self.number_of_rooms = number_of_rooms\n",
        "m1 = Mansion(\"123 Main St\", 250000, 8)\n",
        "print(m1.address)\n",
        "print(m1.price)\n",
        "print(m1.number_of_rooms)"
      ],
      "metadata": {
        "colab": {
          "base_uri": "https://localhost:8080/"
        },
        "id": "HNKBWNz9W8gZ",
        "outputId": "4d626a9d-8523-4e05-e0fc-d65cd3898f33"
      },
      "execution_count": 30,
      "outputs": [
        {
          "output_type": "stream",
          "name": "stdout",
          "text": [
            "123 Main St\n",
            "250000\n",
            "8\n"
          ]
        }
      ]
    }
  ]
}